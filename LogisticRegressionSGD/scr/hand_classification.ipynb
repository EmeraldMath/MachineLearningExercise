{
 "cells": [
  {
   "cell_type": "markdown",
   "metadata": {},
   "source": [
    "## Logistic Regression with SGD"
   ]
  },
  {
   "cell_type": "markdown",
   "metadata": {},
   "source": [
    "To begin you first need to install all dependencies, using:\n",
    "\n",
    "    pip install -r requirements.txt"
   ]
  },
  {
   "cell_type": "code",
   "execution_count": 145,
   "metadata": {},
   "outputs": [],
   "source": [
    "import numpy as np\n",
    "import matplotlib.pyplot as plt\n",
    "\n",
    "from math import exp, log\n",
    "import os\n",
    "import pickle\n",
    "\n",
    "from skimage import io\n",
    "from skimage.color import rgb2gray\n",
    "from skimage.feature import hog\n",
    "\n",
    "from sklearn.metrics import accuracy_score\n",
    "from sklearn.metrics import precision_recall_curve\n",
    "from sklearn.metrics import roc_curve\n",
    "from sklearn.metrics import roc_auc_score\n",
    "from sklearn.metrics import average_precision_score"
   ]
  },
  {
   "cell_type": "code",
   "execution_count": 146,
   "metadata": {},
   "outputs": [],
   "source": [
    "%matplotlib inline"
   ]
  },
  {
   "cell_type": "markdown",
   "metadata": {},
   "source": [
    "### load the dataset"
   ]
  },
  {
   "cell_type": "code",
   "execution_count": 147,
   "metadata": {},
   "outputs": [],
   "source": [
    "### set your image dir here\n",
    "IMAGE_DIR = \"./data/\""
   ]
  },
  {
   "cell_type": "code",
   "execution_count": 148,
   "metadata": {},
   "outputs": [],
   "source": [
    "def load_dataset(subset=\"train\"):\n",
    "    \"\"\"\n",
    "    1. subset = \"train\", \"val\", \"test\"\n",
    "    2. About the dataset: in \"train\",\"val\" subset, the first half of images are images of hands, the rest half are images of not-hand. \n",
    "    3. extract features from HoG\n",
    "    \"\"\"\n",
    "    path = os.path.join(IMAGE_DIR,subset)\n",
    "    name_list = os.listdir(path)\n",
    "    print(\"Number of images in {}-set: {}\".format(subset, len(name_list)))\n",
    "    #HoG returns 324 features\n",
    "    X = np.zeros(shape=(len(name_list), 324))\n",
    "\n",
    "    if subset == \"train\" or subset == \"val\":\n",
    "        #Make sure that we have equal number of positive and negative class images\n",
    "        assert len(name_list)%2 == 0\n",
    "        count = len(name_list)//2\n",
    "        y = np.array(count*[1] + count*[0])\n",
    "        for idx_true in range(count):\n",
    "            img_name = os.path.join(path,str(idx_true)+\".png\")\n",
    "            img = io.imread(img_name)\n",
    "            img = rgb2gray(img)\n",
    "            vec = hog(img)\n",
    "            X[idx_true, :] = vec\n",
    "        \n",
    "        for idx in range(count):\n",
    "            idx_false = idx + count\n",
    "            img_name = os.path.join(path,str(idx_false)+\".png\")\n",
    "            img = io.imread(img_name)\n",
    "            img = rgb2gray(img)\n",
    "            vec = hog(img)\n",
    "            X[idx_false, :] = vec\n",
    "        return X, y        \n",
    "    else:\n",
    "        for idx in range(len(name_list)):\n",
    "            img_name = os.path.join(path, str(idx)+\".png\")\n",
    "            img = io.imread(img_name)\n",
    "            img = rgb2gray(img)\n",
    "            vec = hog(img)\n",
    "            X[idx, :] = vec\n",
    "        return X"
   ]
  },
  {
   "cell_type": "markdown",
   "metadata": {},
   "source": [
    "### load the data"
   ]
  },
  {
   "cell_type": "code",
   "execution_count": 149,
   "metadata": {},
   "outputs": [
    {
     "name": "stdout",
     "output_type": "stream",
     "text": [
      "Number of images in train-set: 8170\n"
     ]
    },
    {
     "name": "stderr",
     "output_type": "stream",
     "text": [
      "/Library/Frameworks/Python.framework/Versions/3.6/lib/python3.6/site-packages/skimage/feature/_hog.py:150: skimage_deprecation: Default value of `block_norm`==`L1` is deprecated and will be changed to `L2-Hys` in v0.15. To supress this message specify explicitly the normalization method.\n",
      "  skimage_deprecation)\n"
     ]
    },
    {
     "name": "stdout",
     "output_type": "stream",
     "text": [
      "Number of images in val-set: 2724\n",
      "Number of images in test-set: 5542\n"
     ]
    }
   ],
   "source": [
    "X_train, y_train = load_dataset(\"train\")\n",
    "X_val, y_val = load_dataset(\"val\")\n",
    "X_test = load_dataset(\"test\")"
   ]
  },
  {
   "cell_type": "markdown",
   "metadata": {},
   "source": [
    "### displaying images"
   ]
  },
  {
   "cell_type": "code",
   "execution_count": 150,
   "metadata": {},
   "outputs": [],
   "source": [
    "def display(img_path):\n",
    "    \"\"\"\n",
    "    visualize the img\n",
    "    \"\"\"\n",
    "    img = io.imread(img_path)\n",
    "    print(img_path)\n",
    "    io.imshow(img)\n",
    "    io.show()"
   ]
  },
  {
   "cell_type": "code",
   "execution_count": 151,
   "metadata": {},
   "outputs": [
    {
     "name": "stdout",
     "output_type": "stream",
     "text": [
      "./data/train/1.png\n"
     ]
    },
    {
     "data": {
      "image/png": "[encoded data removed]",
      "text/plain": [
       "<Figure size 432x288 with 1 Axes>"
      ]
     },
     "metadata": {
      "needs_background": "light"
     },
     "output_type": "display_data"
    }
   ],
   "source": [
    "display(IMAGE_DIR+\"train/1.png\")"
   ]
  },
  {
   "cell_type": "markdown",
   "metadata": {},
   "source": [
    "### Logistic regression"
   ]
  },
  {
   "cell_type": "markdown",
   "metadata": {},
   "source": [
    "#### Main function in the class\n",
    "1. \\__init\\__() which sets the hyper parameters\n",
    "2. sigmoid()\n",
    "3. __init_param(), initializes the parameters .\n",
    "4. fit(): train the data\n",
    "5. predict_proba(): predict the probability of the sample belonging to the positive class\n",
    "6. predict(): classify the sample\n",
    "\n",
    "\n",
    "Feel free to overlook the rest of the parts of the code, it's just for convenience.\n"
   ]
  },
  {
   "cell_type": "code",
   "execution_count": 152,
   "metadata": {},
   "outputs": [],
   "source": [
    "class LogisticRegression:\n",
    "    \"\"\"\n",
    "    Logistic Regression\n",
    "    \"\"\"\n",
    "    def __init__(self, eta0=0.1, eta1=1, m=16, max_epoch=1000, delta=0.0001):\n",
    "        \"\"\"\n",
    "        m is the batch_size\n",
    "        \"\"\"\n",
    "        self.__init = True # whether to initial the parameters\n",
    "        self.__eta0 = eta0\n",
    "        self.__eta1 = eta1\n",
    "        self.__delta = delta\n",
    "        self.__m = m\n",
    "        self.__max_epoch = max_epoch\n",
    "        \n",
    "    def sigmoid(self, x):\n",
    "        return 1.0 / (1 + np.exp(-x))\n",
    "    \n",
    "    def __init_param(self):\n",
    "        \"\"\"\n",
    "        Weights initialized using a normal distribution here: you can change the distribution.\n",
    "        \"\"\"\n",
    "        d = self.__dimension\n",
    "        self.__wt = np.random.randn(1,d)\n",
    "        self.__bias = np.random.randn()\n",
    "        return self.__wt,self.__bias\n",
    "    \n",
    "    def fit(self, X, y, X_val=None, y_val=None):\n",
    "        \"\"\"\n",
    "        Recommended input:\n",
    "        X: n x d array,\n",
    "        y: n x 1 array or list\n",
    "        \"\"\"\n",
    "        n, d = X.shape\n",
    "        self.__dimension = d\n",
    "        \n",
    "        if self.__init:\n",
    "            self.__init_param()\n",
    "        \n",
    "        ### write your code here ###\n",
    "        X_bar = np.ones((d+1,n))\n",
    "        X_bar[0:d, :] = X.transpose()\n",
    "        theta = np.zeros(d+1)\n",
    "        theta[0:d] = self.__wt[0]\n",
    "        theta[d] = self.__bias\n",
    "        ep = []\n",
    "        lt = []\n",
    "        par = []\n",
    "        for epoch in range(1, self.__max_epoch+1):\n",
    "            eta = self.__eta0*1.0/(self.__eta1 + epoch)\n",
    "            shuf = np.random.permutation(np.arange(n))\n",
    "            batches = np.array_split(np.array(shuf), n/self.__m)\n",
    "            theta_old = theta\n",
    "            for b in batches:\n",
    "                partial = np.zeros(d+1)\n",
    "                for i in b:\n",
    "                    partial = partial + (y[i] - 1.0/(1+np.exp(-1.0*np.dot(theta,X_bar[:,i]))))*X_bar[:,i]\n",
    "                partial = -1.0/b.size*partial\n",
    "                theta = theta - eta*partial\n",
    "            L_old = 0\n",
    "            L_new = 0\n",
    "            for j in range(0, n):\n",
    "                L_old = L_old + y[j]*np.dot(theta_old,X_bar[:,j]) - np.log(1+np.exp(np.dot(theta_old,X_bar[:,j])))\n",
    "                L_new = L_new + y[j]*np.dot(theta,X_bar[:,j]) - np.log(1+np.exp(np.dot(theta,X_bar[:,j])))\n",
    "            L_old = -1.0/n*L_old;\n",
    "            L_new = -1.0/n*L_new;\n",
    "            ep.append(epoch)\n",
    "            lt.append(L_old)\n",
    "            par.append(theta_old)\n",
    "            if (L_new > (1-self.__delta)*L_old):\n",
    "                break;\n",
    "        self.__wt[0] = theta_old[0:d]\n",
    "        self.__bias = theta_old[d]\n",
    "        ############################\n",
    "        return ep, lt, par\n",
    "    \n",
    "    def predict_proba(self, X, p):\n",
    "        \"\"\"\n",
    "        predict the probility of the sample\n",
    "        You can refer to my code below\n",
    "        \"\"\"\n",
    "        return 1.0/(1+np.exp(-np.dot(p,X)))\n",
    "#         return a vector containing the probability values of the samples belonging to the positive class\n",
    "    \n",
    "    def predict(self, X, pars):\n",
    "        \"\"\"\n",
    "        Classify the sample\n",
    "        \"\"\"\n",
    "        n_pre,d_pre = X.shape\n",
    "        X_pre = np.ones((d_pre+1,n_pre))\n",
    "        X_pre[0:d_pre, :] = X.transpose()\n",
    "        ans = []\n",
    "        for p in pars:\n",
    "            ans.append(self.predict_proba(X_pre,p) >= 0.5)\n",
    "        return ans\n",
    "#        return self.predict_proba(X) >= 0.5 # attention: this will give result in bool, you need to convert it to int for submission. \n",
    "    \n",
    "    def get_param(self):\n",
    "        \"\"\"\n",
    "        output:\n",
    "            parameters: wt(1*d array), b(scalar)\n",
    "        \"\"\"\n",
    "        return [self.__wt, self.__bias]\n",
    "    \n",
    "    def save_model(self, save_file):\n",
    "        \"\"\"\n",
    "        save model to .pkl file\n",
    "        \"\"\"\n",
    "        with open(save_file,\"wb\") as file:\n",
    "            pickle.dump([self.__wt, self.__bias],file)\n",
    "\n",
    "    def load_model(self, load_file):\n",
    "        \"\"\"\n",
    "        load model from .pkl file\n",
    "        \"\"\"\n",
    "        with open(load_file,\"rb\") as file:\n",
    "            param = pickle.load(file)\n",
    "        self.__wt = param[0]\n",
    "        self.__bias = param[1]\n",
    "        self.__init = False\n",
    "        return self.__wt, self.__bias"
   ]
  },
  {
   "cell_type": "markdown",
   "metadata": {},
   "source": [
    "## Question 2.3"
   ]
  },
  {
   "cell_type": "markdown",
   "metadata": {
    "scrolled": true
   },
   "source": [
    "### 1. Baseline Model"
   ]
  },
  {
   "cell_type": "code",
   "execution_count": 153,
   "metadata": {
    "scrolled": true
   },
   "outputs": [],
   "source": [
    "LR = LogisticRegression()\n",
    "e, l, p = LR.fit(X_train,y_train)"
   ]
  },
  {
   "cell_type": "markdown",
   "metadata": {
    "variables": {
     "e[-1]": "333"
    }
   },
   "source": [
    "(a) Number of epochs till termination = {{e[-1]}}"
   ]
  },
  {
   "cell_type": "code",
   "execution_count": 154,
   "metadata": {},
   "outputs": [
    {
     "data": {
      "image/png": "[encoded data removed]",
      "text/plain": [
       "<Figure size 432x288 with 1 Axes>"
      ]
     },
     "metadata": {
      "needs_background": "light"
     },
     "output_type": "display_data"
    }
   ],
   "source": [
    "# (b) Plot L(theta) vs num_epochs\n",
    "plt.plot(e, l)\n",
    "plt.xlabel('num_epochs')\n",
    "plt.ylabel(r'L($\\theta$)')\n",
    "plt.title(r'L($\\theta$) vs num_epochs')\n",
    "plt.show()"
   ]
  },
  {
   "cell_type": "markdown",
   "metadata": {
    "variables": {
     "min(l)": "0.5233314760892861"
    }
   },
   "source": [
    "(c) Final value of L($\\theta$) after optimization = {{min(l)}}"
   ]
  },
  {
   "cell_type": "markdown",
   "metadata": {},
   "source": [
    "### 2. Experimenting with ($\\eta_0$,$\\eta_1$)"
   ]
  },
  {
   "cell_type": "code",
   "execution_count": 155,
   "metadata": {},
   "outputs": [],
   "source": [
    "# Experimentation code goes here\n",
    "Exp = LogisticRegression(1, 1, 16, 1000, 0.0001)\n",
    "ex, lx, px = Exp.fit(X_train,y_train)\n"
   ]
  },
  {
   "cell_type": "markdown",
   "metadata": {
    "variables": {
     "ex[-1]": "306",
     "lx[-1]": "0.3315666542782573"
    }
   },
   "source": [
    "(a) Best value for, $\\eta_0$ = 1\\, $\\eta_1$ = 1\n",
    "\n",
    "Number of epochs for training = {{ex[-1]}}\n",
    "\n",
    "Final value of L($\\theta$) = {{lx[-1]}}"
   ]
  },
  {
   "cell_type": "code",
   "execution_count": 157,
   "metadata": {},
   "outputs": [
    {
     "data": {
      "image/png": "[encoded data removed]",
      "text/plain": [
       "<Figure size 432x288 with 1 Axes>"
      ]
     },
     "metadata": {
      "needs_background": "light"
     },
     "output_type": "display_data"
    }
   ],
   "source": [
    "# (b) For best (eta_0, eta_1) plot L(theta) vs num_epochs\n",
    "plt.plot(ex, lx)\n",
    "plt.xlabel('num_epochs')\n",
    "plt.ylabel(r'L($\\theta$)')\n",
    "plt.title(r'L($\\theta$) vs num_epochs')\n",
    "plt.show()"
   ]
  },
  {
   "cell_type": "markdown",
   "metadata": {},
   "source": [
    "### 3. Evaluating on validation set"
   ]
  },
  {
   "cell_type": "code",
   "execution_count": 158,
   "metadata": {},
   "outputs": [
    {
     "data": {
      "image/png": "[encoded data removed]",
      "text/plain": [
       "<Figure size 432x288 with 1 Axes>"
      ]
     },
     "metadata": {
      "needs_background": "light"
     },
     "output_type": "display_data"
    }
   ],
   "source": [
    "# (a) Plot L(theta) vs num_epochs for both training and validation set on the same figure\n",
    "n_val, d_val = X_val.shape\n",
    "X_bar_val = np.ones((d_val+1,n_val))\n",
    "X_bar_val[0:d_val, :] = X_val.transpose()\n",
    "L_val_array = []\n",
    "for par in p:\n",
    "    L_val = 0\n",
    "    for j in range(0, n_val):\n",
    "        L_val = L_val + y_val[j]*np.dot(par,X_bar_val[:,j]) - np.log(1+np.exp(np.dot(par,X_bar_val[:,j])))\n",
    "    L_val = -1.0/n_val*L_val;\n",
    "    L_val_array.append(L_val)    \n",
    "plt.plot(e, l, e, L_val_array)\n",
    "plt.legend(('Train', 'Validation'),loc='upper right')\n",
    "plt.xlabel('num_epochs')\n",
    "plt.ylabel(r'L($\\theta$)')\n",
    "plt.title(r'L($\\theta$) vs num_epochs')\n",
    "plt.show()"
   ]
  },
  {
   "cell_type": "code",
   "execution_count": 159,
   "metadata": {},
   "outputs": [
    {
     "data": {
      "image/png": "[encoded data removed]",
      "text/plain": [
       "<Figure size 432x288 with 1 Axes>"
      ]
     },
     "metadata": {
      "needs_background": "light"
     },
     "output_type": "display_data"
    }
   ],
   "source": [
    "# (b) Plot Accuracy vs num_epochs for both training and validation set on the same figure\n",
    "pre_e_train = LR.predict(X_train, p)\n",
    "pre_e_val = LR.predict(X_val, p)\n",
    "acc_train = []\n",
    "acc_val = []\n",
    "#acc_e_train = 0\n",
    "#acc_e_val = 0\n",
    "for i in e:\n",
    "    pre_train = pre_e_train[i-1].astype(int)\n",
    "    pre_val = pre_e_val[i-1].astype(int)\n",
    "    acc_e_train = accuracy_score(pre_train, y_train, normalize=True, sample_weight=None)\n",
    "    acc_e_val = accuracy_score(pre_val, y_val, normalize=True, sample_weight=None)\n",
    "    acc_train.append(acc_e_train)\n",
    "    acc_val.append(acc_e_val)\n",
    "plt.plot(e, acc_train, e, acc_val)\n",
    "plt.legend(('Train', 'Validation'),loc='lower right')\n",
    "plt.xlabel('num_epochs')\n",
    "plt.ylabel('accuracy')\n",
    "plt.title('accuracy vs num_epochs')\n",
    "plt.show()"
   ]
  },
  {
   "cell_type": "markdown",
   "metadata": {},
   "source": [
    "### 4. ROC and Precision-Recall curves"
   ]
  },
  {
   "cell_type": "code",
   "execution_count": 160,
   "metadata": {},
   "outputs": [
    {
     "data": {
      "image/png": "[encoded data removed]",
      "text/plain": [
       "<Figure size 432x288 with 1 Axes>"
      ]
     },
     "metadata": {
      "needs_background": "light"
     },
     "output_type": "display_data"
    }
   ],
   "source": [
    "#(a) Plot ROC curve on validation data\n",
    "#pre_e_val = LR.predict(X_val, p)\n",
    "y_score = []\n",
    "y_score = LR.predict_proba(X_bar_val, p[-1])\n",
    "fpr, tpr, thresholds = roc_curve(y_val, y_score)\n",
    "plt.plot(fpr, tpr)\n",
    "plt.xlabel('False Positive')\n",
    "plt.ylabel('Recall')\n",
    "plt.title('ROC of validation')\n",
    "plt.show()"
   ]
  },
  {
   "cell_type": "markdown",
   "metadata": {
    "variables": {
     "roc_auc_score(y_val, y_score)": "0.8888339036702094"
    }
   },
   "source": [
    "Area under curve = {{roc_auc_score(y_val, y_score)}}"
   ]
  },
  {
   "cell_type": "code",
   "execution_count": 161,
   "metadata": {},
   "outputs": [
    {
     "data": {
      "image/png": "[encoded data removed]",
      "text/plain": [
       "<Figure size 432x288 with 1 Axes>"
      ]
     },
     "metadata": {
      "needs_background": "light"
     },
     "output_type": "display_data"
    }
   ],
   "source": [
    "#(a) Plot Precision-Recall curve on validation data\n",
    "precision, recall, thresholds = precision_recall_curve(y_val, y_score)\n",
    "plt.plot(recall, precision)\n",
    "plt.xlabel('Recall')\n",
    "plt.ylabel('Precision')\n",
    "plt.title('Precision-Recall curve on validation data')\n",
    "plt.show()"
   ]
  },
  {
   "cell_type": "markdown",
   "metadata": {
    "variables": {
     "average_precision_score(y_val, y_score)": "0.8625865020704824"
    }
   },
   "source": [
    "Average Precision = {{average_precision_score(y_val, y_score)}}"
   ]
  },
  {
   "cell_type": "markdown",
   "metadata": {},
   "source": [
    "## Question 2.4"
   ]
  },
  {
   "cell_type": "markdown",
   "metadata": {},
   "source": [
    "### 1. Submission"
   ]
  },
  {
   "cell_type": "code",
   "execution_count": 162,
   "metadata": {},
   "outputs": [],
   "source": [
    "import pandas as pd\n",
    "def submission(y_pred):\n",
    "    \"\"\"\n",
    "    generate the submission.csv for kaggle\n",
    "    input args:\n",
    "        y_pred: 5542x1 array or list contains 5542 elements\n",
    "        \n",
    "    \"\"\"\n",
    "    save_file = pd.DataFrame(columns=[\"Id\",\"Class\"])\n",
    "    id = np.array([idx for idx in range(5542)])\n",
    "    save_file[\"Id\"] = id\n",
    "    save_file[\"Class\"]= y_pred\n",
    "    save_file.to_csv(\"submission.csv\",index=0)       "
   ]
  },
  {
   "cell_type": "markdown",
   "metadata": {},
   "source": [
    "#### Generate the submission.csv"
   ]
  },
  {
   "cell_type": "code",
   "execution_count": 163,
   "metadata": {},
   "outputs": [],
   "source": [
    "# code goes here\n",
    "ps = np.zeros((1,d_val+1))\n",
    "#print(ps)\n",
    "#print(p[-1])\n",
    "ps[0] = p[-1]\n",
    "#print(ps)\n",
    "pre_test = LR.predict(X_test, ps)\n",
    "submission(pre_test[0].astype(int))"
   ]
  },
  {
   "cell_type": "markdown",
   "metadata": {},
   "source": [
    "Best obtained accuracy on Public Leader-board = 85.781%"
   ]
  },
  {
   "cell_type": "code",
   "execution_count": 167,
   "metadata": {},
   "outputs": [],
   "source": [
    "# code goes here\n",
    "ps = np.zeros((1,d_val+1))\n",
    "mul = LogisticRegression(1.5, 10, 32, 1000, 0.0001)\n",
    "me, ml, mp = mul.fit(X_train,y_train)\n",
    "ps[0] = mp[-1]\n",
    "pre_test = mul.predict(X_test, ps)\n",
    "submission(pre_test[0].astype(int))"
   ]
  }
 ],
 "metadata": {
  "kernelspec": {
   "display_name": "Python 3",
   "language": "python",
   "name": "python3"
  },
  "language_info": {
   "codemirror_mode": {
    "name": "ipython",
    "version": 3
   },
   "file_extension": ".py",
   "mimetype": "text/x-python",
   "name": "python",
   "nbconvert_exporter": "python",
   "pygments_lexer": "ipython3",
   "version": "3.6.4"
  }
 },
 "nbformat": 4,
 "nbformat_minor": 2
}
