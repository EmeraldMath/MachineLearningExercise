{
 "cells": [
  {
   "cell_type": "markdown",
   "metadata": {},
   "source": [
    "# Sequence Classification using Recurrent Neural Networks(RNN)\n",
    "In this homework, you will learn how to train a recurrent neural network for human action classification. RNN is designed handle sequential data. The network can incorporate both past history and current input. [This](http://colah.github.io/posts/2015-08-Understanding-LSTMs/) is a very good tutorial. You should read it before you start."
   ]
  },
  {
   "cell_type": "markdown",
   "metadata": {},
   "source": [
    "## Setup\n",
    "Please make sure you have h5py and torchnet installed\n",
    "> pip install h5py\n",
    "\n",
    "> pip install git+https://github.com/pytorch/tnt.git@master\n"
   ]
  },
  {
   "cell_type": "code",
   "execution_count": 1,
   "metadata": {
    "collapsed": false
   },
   "outputs": [
    {
     "name": "stdout",
     "output_type": "stream",
     "text": [
      "use cuda: False\n"
     ]
    }
   ],
   "source": [
    "import os\n",
    "import numpy as np\n",
    "import h5py\n",
    "\n",
    "import torch\n",
    "import torch.nn as nn\n",
    "from torch.autograd import Variable\n",
    "import torch.utils.data as DD\n",
    "import torchnet as tnt\n",
    "\n",
    "use_cuda = torch.cuda.is_available()\n",
    "print('use cuda: %s'%(use_cuda))\n",
    "FloatTensor = torch.cuda.FloatTensor if use_cuda else torch.FloatTensor\n",
    "LongTensor = torch.cuda.LongTensor if use_cuda else torch.LongTensor\n",
    "ByteTensor = torch.cuda.ByteTensor if use_cuda else torch.ByteTensor\n"
   ]
  },
  {
   "cell_type": "markdown",
   "metadata": {},
   "source": [
    "## Dataset\n",
    "The data we are using is skeleton data, which indicates the 3D locations of body joints. In total, there are 25 body joints. It is collected by Kinect v2. To make it easier, each sequence have same number of frames. You need to classify 10 different actions. There are 2000 training sequences, 400 validation sequences, and 500 test sequences. Each sequence has 15 frames, each frame is a 75-dimension vector (3*25).\n",
    "\n",
    "For your convenience, we provide the dataloader for you.\n"
   ]
  },
  {
   "cell_type": "code",
   "execution_count": 2,
   "metadata": {
    "collapsed": true
   },
   "outputs": [],
   "source": [
    "class Dataset(DD.Dataset):\n",
    "    # subset can be: 'train', 'val', 'test'\n",
    "    def __init__(self, data_path, subset='train'):\n",
    "        super(Dataset, self).__init__()\n",
    "        self.data_path = os.path.join(data_path, '%s_data.h5'%subset)\n",
    "        self.subset = subset\n",
    "\n",
    "        with h5py.File(self.data_path) as f:\n",
    "            self.data = np.array(f['data'])\n",
    "\n",
    "        if subset != 'test':\n",
    "            self.label_path = os.path.join(data_path, '%s_label.h5'%subset)\n",
    "            with h5py.File(self.label_path) as f:\n",
    "                self.label = np.array(f['label'])\n",
    "\n",
    "        self.num_sequences = self.data.shape[0]\n",
    "        self.seq_len = self.data.shape[1]\n",
    "        self.n_dim = self.data.shape[2]\n",
    "\n",
    "    def __getitem__(self, index):\n",
    "        seq = self.data[index]\n",
    "        if self.subset != 'test':\n",
    "            label = int(self.label[index])\n",
    "            sample = {'seq': seq, 'label': label}\n",
    "        else:\n",
    "            sample = {'seq': seq}\n",
    "        return sample\n",
    "\n",
    "    def __len__(self):\n",
    "        return self.num_sequences\n",
    "\n",
    "trSet = Dataset('./data', subset='train')\n",
    "valSet = Dataset('./data', subset='val')\n",
    "tstSet = Dataset('./data', subset='test')\n",
    "\n",
    "batch_size = 50\n",
    "trLD = DD.DataLoader(trSet, batch_size=batch_size,\n",
    "       sampler=DD.sampler.RandomSampler(trSet),\n",
    "       num_workers=2, pin_memory=False)\n",
    "valLD = DD.DataLoader(valSet, batch_size=batch_size,\n",
    "       sampler=DD.sampler.SequentialSampler(valSet),\n",
    "       num_workers=1, pin_memory=False)\n",
    "tstLD = DD.DataLoader(tstSet, batch_size=batch_size,\n",
    "       sampler=DD.sampler.SequentialSampler(tstSet),\n",
    "       num_workers=1, pin_memory=False)\n",
    "\n",
    "input_dim = trSet.n_dim\n",
    "num_class = 10"
   ]
  },
  {
   "cell_type": "markdown",
   "metadata": {},
   "source": [
    "## Model\n",
    "Pytorch has implemented different types of recurrent layers for you. For this homework, you can use any type of RNNs as you want:\n",
    "> torch.nn.RNN()\n",
    "\n",
    "> torch.nn.LSTM()\n",
    "\n",
    "> torch.nn.GRU()\n",
    "\n",
    "You can check details for different types of recurrent layers here: [RNN](http://pytorch.org/docs/master/nn.html#torch.nn.RNN), [LSTM]( http://pytorch.org/docs/master/nn.html#torch.nn.LSTM), [GRU](http://pytorch.org/docs/master/nn.html#torch.nn.GRU)\n",
    "\n",
    "\n",
    "### Implement a specific model\n",
    "In this section, you need to implement a model for sequence classification. The model has following layers:\n",
    "* A linear layer that can map features of 75-dimension to 100-dimension.\n",
    "* 1 Layer LSTM layer with hidden size of 100\n",
    "* A linear layer that goes from 100 to num_class (10). \n",
    "\n",
    "An LSTM layer takes an input of size of (batch_size, seq_len, fea_dim) and outputs a variable of shape (batch_size, seq_len, hidden_size). In this homework, the classification score for a sequence is the classification score for the last step of rnn_outputs.\n",
    "\n"
   ]
  },
  {
   "cell_type": "code",
   "execution_count": 3,
   "metadata": {
    "collapsed": true
   },
   "outputs": [],
   "source": [
    "# sequence classification model\n",
    "class SequenceClassify(nn.Module):\n",
    "    def __init__(self):\n",
    "        super(SequenceClassify, self).__init__()\n",
    "        \n",
    "        ############## 1st To Do (10 points) ##############\n",
    "        ###################################################\n",
    "        self.project_layer = nn.Linear(75, 100)\n",
    "        self.recurrent_layer = nn.LSTM(100, 100, 1)\n",
    "        self.classify_layer = nn.Linear(100, 10)\n",
    "        ###################################################\n",
    "    \n",
    "    # the size of input is [batch_size, seq_len(15), input_dim(75)]\n",
    "    # the size of logits is [batch_size, num_class]\n",
    "    def forward(self, input, h_t_1=None, c_t_1=None):\n",
    "        # the size of rnn_outputs is [batch_size, seq_len, rnn_size]\n",
    "        rnn_outputs, (hn, cn) = self.recurrent_layer(self.project_layer(input))\n",
    "        # classify the last step of rnn_outpus\n",
    "        # the size of logits is [batch_size, num_class]\n",
    "        # logits = self.project_layer(rnn_outputs[:,-1])\n",
    "        logits = self.classify_layer(rnn_outputs[:,-1])\n",
    "        return logits\n",
    "\n",
    "model = SequenceClassify()"
   ]
  },
  {
   "cell_type": "markdown",
   "metadata": {},
   "source": [
    "## Train the model\n",
    "After you have the dataloader and model, you can start training the model. Define a SGD optimizer with learning rate of 1e-3, and a cross-entropy loss function:"
   ]
  },
  {
   "cell_type": "code",
   "execution_count": 4,
   "metadata": {
    "collapsed": true
   },
   "outputs": [],
   "source": [
    "################ 2nd To Do  (5 points)##################\n",
    "optimizer = torch.optim.SGD(model.parameters(), lr=0.1)\n",
    "criterion = nn.CrossEntropyLoss()"
   ]
  },
  {
   "cell_type": "code",
   "execution_count": 5,
   "metadata": {
    "collapsed": false
   },
   "outputs": [
    {
     "name": "stdout",
     "output_type": "stream",
     "text": [
      "train Epoch: 0  , Loss: 2.3120,  Accuracy: 9.50\n"
     ]
    },
    {
     "name": "stderr",
     "output_type": "stream",
     "text": [
      "/Users/bihuayu/Documents/MachineLearning/hw7/hw7_data/.env/lib/python2.7/site-packages/ipykernel/__main__.py:31: UserWarning: invalid index of a 0-dim tensor. This will be an error in PyTorch 0.5. Use tensor.item() to convert a 0-dim tensor to a Python number\n"
     ]
    },
    {
     "name": "stdout",
     "output_type": "stream",
     "text": [
      "val Epoch: 0  , Loss: 2.3060,  Accuracy: 9.25\n"
     ]
    }
   ],
   "source": [
    "# run the model for one epoch\n",
    "# can be used for both training or validation model\n",
    "def run_epoch(data_loader, model, criterion, epoch, is_training, optimizer=None):\n",
    "    if is_training:\n",
    "        model.train()\n",
    "        logger_prefix = 'train'\n",
    "    else:\n",
    "        model.eval()\n",
    "        logger_prefix = 'val'\n",
    "\n",
    "    confusion_matrix = tnt.meter.ConfusionMeter(num_class)\n",
    "    acc = tnt.meter.ClassErrorMeter(accuracy=True)\n",
    "    meter_loss = tnt.meter.AverageValueMeter()\n",
    "\n",
    "    for batch_idx, sample in enumerate(data_loader):\n",
    "        sequence = sample['seq']\n",
    "        label = sample['label']\n",
    "        input_sequence_var = Variable(sequence).type(FloatTensor)\n",
    "        input_label_var = Variable(label).type(LongTensor)\n",
    "\n",
    "        # compute output\n",
    "        # output_logits: [batch_size, num_class]\n",
    "        output_logits = model(input_sequence_var)\n",
    "        loss = criterion(output_logits, input_label_var)\n",
    "\n",
    "        if is_training:\n",
    "            optimizer.zero_grad()\n",
    "            loss.backward()\n",
    "            optimizer.step()\n",
    "\n",
    "        meter_loss.add(loss.data[0])\n",
    "        acc.add(output_logits.data, input_label_var.data)\n",
    "        confusion_matrix.add(output_logits.data, input_label_var.data)\n",
    "\n",
    "\n",
    "    print('%s Epoch: %d  , Loss: %.4f,  Accuracy: %.2f'%(logger_prefix, epoch, meter_loss.value()[0], acc.value()[0]))\n",
    "    return acc.value()[0]\n",
    "\n",
    "num_epochs = 1\n",
    "evaluate_every_epoch = 5\n",
    "for e in range(num_epochs):\n",
    "    run_epoch(trLD, model, criterion, e, True, optimizer)\n",
    "    if e % evaluate_every_epoch == 0:\n",
    "        run_epoch(valLD, model, criterion, e, False, None)   \n"
   ]
  },
  {
   "cell_type": "markdown",
   "metadata": {},
   "source": [
    "## Submit your results on Kaggle\n",
    "\n",
    "### Train a better model for action recognition!\n",
    "Now it's your job to experiment with architectures, hyperparameters, loss functions, and optimizers to train a model that achieves better accuracy on the action recognition validation set.\n",
    "\n",
    "\n",
    "### Testing the model and submit on Kaggle\n",
    "Testing the model on the testing set and save the results as a .csv file. \n",
    "Please submitted the results.csv file generated by predict_on_test() to Kaggle(https://www.kaggle.com/t/934b80879bd741e6ac1967195604d4d9) to see how well your network performs on the test set. \n",
    "################ 3rd To Do  (20 points, the highest 3 entries get extra 10 points) ###############\n"
   ]
  },
  {
   "cell_type": "code",
   "execution_count": 7,
   "metadata": {
    "collapsed": false
   },
   "outputs": [
    {
     "name": "stdout",
     "output_type": "stream",
     "text": [
      "train Epoch: 0  , Loss: 2.3206,  Accuracy: 11.10\n"
     ]
    },
    {
     "name": "stderr",
     "output_type": "stream",
     "text": [
      "/Users/bihuayu/Documents/MachineLearning/hw7/hw7_data/.env/lib/python2.7/site-packages/ipykernel/__main__.py:36: UserWarning: Implicit dimension choice for log_softmax has been deprecated. Change the call to include dim=X as an argument.\n",
      "/Users/bihuayu/Documents/MachineLearning/hw7/hw7_data/.env/lib/python2.7/site-packages/ipykernel/__main__.py:85: UserWarning: invalid index of a 0-dim tensor. This will be an error in PyTorch 0.5. Use tensor.item() to convert a 0-dim tensor to a Python number\n"
     ]
    },
    {
     "name": "stdout",
     "output_type": "stream",
     "text": [
      "val Epoch: 0  , Loss: 2.1295,  Accuracy: 20.50\n",
      "train Epoch: 1  , Loss: 1.8823,  Accuracy: 26.70\n",
      "train Epoch: 2  , Loss: 1.7082,  Accuracy: 34.75\n",
      "train Epoch: 3  , Loss: 1.5910,  Accuracy: 39.00\n",
      "train Epoch: 4  , Loss: 1.4073,  Accuracy: 49.70\n",
      "train Epoch: 5  , Loss: 1.3374,  Accuracy: 51.55\n",
      "val Epoch: 5  , Loss: 1.3043,  Accuracy: 57.50\n",
      "train Epoch: 6  , Loss: 1.2187,  Accuracy: 56.30\n",
      "train Epoch: 7  , Loss: 1.2031,  Accuracy: 56.35\n",
      "train Epoch: 8  , Loss: 1.1687,  Accuracy: 57.20\n",
      "train Epoch: 9  , Loss: 1.1338,  Accuracy: 59.75\n",
      "train Epoch: 10  , Loss: 1.0775,  Accuracy: 60.95\n",
      "val Epoch: 10  , Loss: 1.2145,  Accuracy: 53.50\n",
      "train Epoch: 11  , Loss: 1.0462,  Accuracy: 62.00\n",
      "train Epoch: 12  , Loss: 1.1015,  Accuracy: 60.60\n",
      "train Epoch: 13  , Loss: 1.0717,  Accuracy: 60.95\n",
      "train Epoch: 14  , Loss: 1.0286,  Accuracy: 61.55\n",
      "train Epoch: 15  , Loss: 1.0016,  Accuracy: 64.25\n",
      "val Epoch: 15  , Loss: 1.0748,  Accuracy: 65.25\n",
      "train Epoch: 16  , Loss: 1.0516,  Accuracy: 62.70\n",
      "train Epoch: 17  , Loss: 0.9683,  Accuracy: 64.70\n",
      "train Epoch: 18  , Loss: 1.0228,  Accuracy: 61.65\n",
      "train Epoch: 19  , Loss: 0.9788,  Accuracy: 64.75\n",
      "train Epoch: 20  , Loss: 0.9341,  Accuracy: 66.30\n",
      "val Epoch: 20  , Loss: 1.0213,  Accuracy: 64.25\n",
      "train Epoch: 21  , Loss: 0.9117,  Accuracy: 67.50\n",
      "train Epoch: 22  , Loss: 1.0129,  Accuracy: 63.30\n",
      "train Epoch: 23  , Loss: 1.0299,  Accuracy: 62.40\n",
      "train Epoch: 24  , Loss: 0.9989,  Accuracy: 64.15\n",
      "train Epoch: 25  , Loss: 0.9081,  Accuracy: 67.05\n",
      "val Epoch: 25  , Loss: 1.0922,  Accuracy: 63.75\n",
      "train Epoch: 26  , Loss: 0.9461,  Accuracy: 65.70\n",
      "train Epoch: 27  , Loss: 0.9665,  Accuracy: 64.55\n",
      "train Epoch: 28  , Loss: 0.9728,  Accuracy: 64.95\n",
      "train Epoch: 29  , Loss: 0.8784,  Accuracy: 69.05\n",
      "train Epoch: 30  , Loss: 0.9161,  Accuracy: 67.85\n",
      "val Epoch: 30  , Loss: 1.0007,  Accuracy: 67.25\n",
      "train Epoch: 31  , Loss: 0.9093,  Accuracy: 67.90\n",
      "train Epoch: 32  , Loss: 0.9822,  Accuracy: 65.30\n",
      "train Epoch: 33  , Loss: 0.9441,  Accuracy: 66.95\n",
      "train Epoch: 34  , Loss: 1.1259,  Accuracy: 61.15\n",
      "train Epoch: 35  , Loss: 1.0700,  Accuracy: 61.70\n",
      "val Epoch: 35  , Loss: 1.1867,  Accuracy: 59.50\n",
      "train Epoch: 36  , Loss: 0.9531,  Accuracy: 66.40\n",
      "train Epoch: 37  , Loss: 0.8985,  Accuracy: 68.95\n",
      "train Epoch: 38  , Loss: 0.9771,  Accuracy: 65.20\n",
      "train Epoch: 39  , Loss: 0.9350,  Accuracy: 66.45\n",
      "train Epoch: 40  , Loss: 0.9237,  Accuracy: 67.40\n",
      "val Epoch: 40  , Loss: 1.0180,  Accuracy: 65.25\n"
     ]
    }
   ],
   "source": [
    "class Net(nn.Module):\n",
    "    def __init__(self, features, cls_size):\n",
    "        super(Net, self).__init__()\n",
    "        self.prenet = nn.Sequential(\n",
    "            nn.Linear(features, 2 * hidden_size),\n",
    "            nn.ReLU(),\n",
    "            nn.Dropout(),\n",
    "            nn.Linear(2 * hidden_size, hidden_size),\n",
    "            nn.ReLU(),\n",
    "            nn.Dropout()\n",
    "        )\n",
    "        self.rnn1 = nn.GRU(input_size=hidden_size,\n",
    "                            hidden_size=hidden_size,\n",
    "                            num_layers=1, batch_first = True)\n",
    "        self.dense1 = nn.Linear(hidden_size, cls_size)\n",
    "\n",
    "    \n",
    "    def forward(self, input, hidden=None):\n",
    "        out_att = self.prenet(input)\n",
    "        x, hidden = self.rnn1(out_att, hidden)\n",
    "        logits = nn.functional.log_softmax(self.dense1(x[:,-1]))\n",
    "        return logits\n",
    "    \n",
    "    def init_hidden(self):\n",
    "        weight = next(self.parameters()).data\n",
    "        return Variable(weight.new(1, batch_size, hidden_size).zero_())\n",
    "\n",
    "features = 75\n",
    "n_c = 10\n",
    "hidden_size = 120\n",
    "model = Net(features=features, cls_size=n_c)\n",
    "criterion = nn.NLLLoss()\n",
    "optimizer = torch.optim.Adam(model.parameters(), lr=0.01)\n",
    "    \n",
    "# run the model for one epoch\n",
    "# can be used for both training or validation model\n",
    "def train(data_loader, model, criterion, epoch, is_training, optimizer=None):\n",
    "    if is_training:\n",
    "        model.train()\n",
    "        logger_prefix = 'train'\n",
    "    else:\n",
    "        model.eval()\n",
    "        logger_prefix = 'val'\n",
    "\n",
    "    confusion_matrix = tnt.meter.ConfusionMeter(num_class)\n",
    "    acc = tnt.meter.ClassErrorMeter(accuracy=True)\n",
    "    meter_loss = tnt.meter.AverageValueMeter()\n",
    "\n",
    "\n",
    "    model.train()\n",
    "    hidden = model.init_hidden()\n",
    "    for batch_idx, sample in enumerate(data_loader):\n",
    "        sequence = sample['seq']\n",
    "        label = sample['label']\n",
    "        X_batch = Variable(sequence).type(FloatTensor)\n",
    "        y_batch = Variable(label).type(LongTensor)\n",
    "        #model.zero_grad()\n",
    "        #output, hidden = model(X_batch, hidden.data)\n",
    "        output = model(X_batch)\n",
    "        loss = criterion(output, y_batch)\n",
    "        #loss.backward()\n",
    "        #optimizer.step()\n",
    "        if is_training:\n",
    "            optimizer.zero_grad()\n",
    "            loss.backward()\n",
    "            optimizer.step()\n",
    "\n",
    "        meter_loss.add(loss.data[0])\n",
    "        acc.add(output.data, y_batch.data)\n",
    "        confusion_matrix.add(output.data, y_batch.data)\n",
    "\n",
    "\n",
    "    print('%s Epoch: %d  , Loss: %.4f,  Accuracy: %.2f'%(logger_prefix, epoch, meter_loss.value()[0], acc.value()[0]))\n",
    "    return acc.value()[0]\n",
    "\n",
    "num_epochs = 41\n",
    "evaluate_every_epoch = 5\n",
    "for e in range(num_epochs):\n",
    "    train(trLD, model, criterion, e, True, optimizer)\n",
    "    if e % evaluate_every_epoch == 0:\n",
    "        train(valLD, model, criterion, e, False, None) \n",
    "        \n",
    "\n",
    "#nb_epochs = 1\n",
    "#for epoch in range(nb_epochs):\n",
    "    #train(trLD) \n",
    "    \n"
   ]
  },
  {
   "cell_type": "code",
   "execution_count": 8,
   "metadata": {
    "collapsed": false
   },
   "outputs": [
    {
     "name": "stdout",
     "output_type": "stream",
     "text": [
      "1000\n"
     ]
    },
    {
     "name": "stderr",
     "output_type": "stream",
     "text": [
      "/Users/bihuayu/Documents/MachineLearning/hw7/hw7_data/.env/lib/python2.7/site-packages/ipykernel/__main__.py:36: UserWarning: Implicit dimension choice for log_softmax has been deprecated. Change the call to include dim=X as an argument.\n"
     ]
    }
   ],
   "source": [
    "# generate csv file for test set\n",
    "def predict_on_test(model, data_loader):\n",
    "    model.eval() # Put the model in test mode (the opposite of model.train(), essentially)\n",
    "    results=open('results.csv','w')\n",
    "    count=0\n",
    "    results.write('Id'+','+'Class'+'\\n')\n",
    "    for batch_idx, sample in enumerate(data_loader):\n",
    "        sequence = sample['seq']\n",
    "        input_sequence_var = Variable(sequence).type(FloatTensor)\n",
    "        scores = model(input_sequence_var)\n",
    "        _, preds = scores.data.max(1)\n",
    "        for i in range(len(preds)):\n",
    "            results.write(str(count)+','+str(preds[i].item())+'\\n')\n",
    "            count+=1\n",
    "    results.close()\n",
    "    return count\n",
    "\n",
    "count=predict_on_test(model, tstLD)\n",
    "print(count)"
   ]
  },
  {
   "cell_type": "markdown",
   "metadata": {},
   "source": [
    "## Report the performance\n",
    "################ 4th To Do  (5 points)##################\n",
    "network architecture:\n",
    "I have two layers of a combination of a linear layer + ReLU + Dropput. Then, a GRU is used. Then, a log_softmax is used.\n",
    "optimiziter: Adam\n",
    "learning rate: 0.01\n",
    "epochs: 52\n",
    "\n",
    "Report your Kaggle Performance here: 0.52200 rank 68"
   ]
  },
  {
   "cell_type": "markdown",
   "metadata": {},
   "source": []
  }
 ],
 "metadata": {
  "kernelspec": {
   "display_name": "Python 2",
   "language": "python",
   "name": "python2"
  },
  "language_info": {
   "codemirror_mode": {
    "name": "ipython",
    "version": 2
   },
   "file_extension": ".py",
   "mimetype": "text/x-python",
   "name": "python",
   "nbconvert_exporter": "python",
   "pygments_lexer": "ipython2",
   "version": "2.7.10"
  }
 },
 "nbformat": 4,
 "nbformat_minor": 2
}
